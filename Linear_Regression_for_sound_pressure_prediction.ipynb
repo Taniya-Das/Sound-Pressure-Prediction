{
  "nbformat": 4,
  "nbformat_minor": 0,
  "metadata": {
    "colab": {
      "name": "Linear Regression for sound pressure prediction.ipynb",
      "provenance": [],
      "collapsed_sections": [],
      "mount_file_id": "1kelQ2ulxckUB2mxvU2DKnLlWyFgWtbZm",
      "authorship_tag": "ABX9TyPx4oCiSj1qt90d6Ro3QnLa"
    },
    "kernelspec": {
      "name": "python3",
      "display_name": "Python 3"
    },
    "language_info": {
      "name": "python"
    }
  },
  "cells": [
    {
      "cell_type": "markdown",
      "metadata": {
        "id": "5axVxZN9RoOw"
      },
      "source": [
        "Predictive Modeling; This data has 5 independent variables and Sound_pressure_level as the dependent variable (to be predicted). The data set is taken from UCI Machine Learning repository. \n",
        "\n"
      ]
    },
    {
      "cell_type": "code",
      "metadata": {
        "id": "k5w4h5dxP6hE"
      },
      "source": [
        "import pandas as pd\n",
        "import numpy as np\n",
        "import os\n"
      ],
      "execution_count": null,
      "outputs": []
    },
    {
      "cell_type": "code",
      "metadata": {
        "id": "ch0NM85LhpRN"
      },
      "source": [
        "path=\"/content/drive/MyDrive/Colab Notebooks/Google Collab ML data repository/UCI ML data (pressure)\"\n",
        "os.chdir(path)\n",
        "\n",
        "train=pd.read_csv(\"airfoil_self_noise.csv\")"
      ],
      "execution_count": null,
      "outputs": []
    },
    {
      "cell_type": "code",
      "metadata": {
        "colab": {
          "base_uri": "https://localhost:8080/"
        },
        "id": "Dft6DRi4RGwH",
        "outputId": "5c4b285a-8444-46df-f1df-e11099dd207f"
      },
      "source": [
        "\n",
        "train.info()"
      ],
      "execution_count": null,
      "outputs": [
        {
          "output_type": "stream",
          "text": [
            "<class 'pandas.core.frame.DataFrame'>\n",
            "RangeIndex: 1503 entries, 0 to 1502\n",
            "Data columns (total 6 columns):\n",
            " #   Column                Non-Null Count  Dtype  \n",
            "---  ------                --------------  -----  \n",
            " 0   Frquency(Hz)          1503 non-null   int64  \n",
            " 1   Angle_of_Attack       1503 non-null   float64\n",
            " 2   Chord_Length          1503 non-null   float64\n",
            " 3   Free_stream_velocity  1503 non-null   float64\n",
            " 4   Displacement          1503 non-null   float64\n",
            " 5   Sound_pressure_level  1503 non-null   float64\n",
            "dtypes: float64(5), int64(1)\n",
            "memory usage: 70.6 KB\n"
          ],
          "name": "stdout"
        }
      ]
    },
    {
      "cell_type": "code",
      "metadata": {
        "colab": {
          "base_uri": "https://localhost:8080/",
          "height": 202
        },
        "id": "PfvEDBUnRgdv",
        "outputId": "64071237-d540-4f23-eb37-5d4ee4f51700"
      },
      "source": [
        "train.head()"
      ],
      "execution_count": null,
      "outputs": [
        {
          "output_type": "execute_result",
          "data": {
            "text/html": [
              "<div>\n",
              "<style scoped>\n",
              "    .dataframe tbody tr th:only-of-type {\n",
              "        vertical-align: middle;\n",
              "    }\n",
              "\n",
              "    .dataframe tbody tr th {\n",
              "        vertical-align: top;\n",
              "    }\n",
              "\n",
              "    .dataframe thead th {\n",
              "        text-align: right;\n",
              "    }\n",
              "</style>\n",
              "<table border=\"1\" class=\"dataframe\">\n",
              "  <thead>\n",
              "    <tr style=\"text-align: right;\">\n",
              "      <th></th>\n",
              "      <th>Frquency(Hz)</th>\n",
              "      <th>Angle_of_Attack</th>\n",
              "      <th>Chord_Length</th>\n",
              "      <th>Free_stream_velocity</th>\n",
              "      <th>Displacement</th>\n",
              "      <th>Sound_pressure_level</th>\n",
              "    </tr>\n",
              "  </thead>\n",
              "  <tbody>\n",
              "    <tr>\n",
              "      <th>0</th>\n",
              "      <td>800</td>\n",
              "      <td>0.0</td>\n",
              "      <td>0.3048</td>\n",
              "      <td>71.3</td>\n",
              "      <td>0.002663</td>\n",
              "      <td>126.201</td>\n",
              "    </tr>\n",
              "    <tr>\n",
              "      <th>1</th>\n",
              "      <td>1000</td>\n",
              "      <td>0.0</td>\n",
              "      <td>0.3048</td>\n",
              "      <td>71.3</td>\n",
              "      <td>0.002663</td>\n",
              "      <td>125.201</td>\n",
              "    </tr>\n",
              "    <tr>\n",
              "      <th>2</th>\n",
              "      <td>1250</td>\n",
              "      <td>0.0</td>\n",
              "      <td>0.3048</td>\n",
              "      <td>71.3</td>\n",
              "      <td>0.002663</td>\n",
              "      <td>125.951</td>\n",
              "    </tr>\n",
              "    <tr>\n",
              "      <th>3</th>\n",
              "      <td>1600</td>\n",
              "      <td>0.0</td>\n",
              "      <td>0.3048</td>\n",
              "      <td>71.3</td>\n",
              "      <td>0.002663</td>\n",
              "      <td>127.591</td>\n",
              "    </tr>\n",
              "    <tr>\n",
              "      <th>4</th>\n",
              "      <td>2000</td>\n",
              "      <td>0.0</td>\n",
              "      <td>0.3048</td>\n",
              "      <td>71.3</td>\n",
              "      <td>0.002663</td>\n",
              "      <td>127.461</td>\n",
              "    </tr>\n",
              "  </tbody>\n",
              "</table>\n",
              "</div>"
            ],
            "text/plain": [
              "   Frquency(Hz)  Angle_of_Attack  ...  Displacement  Sound_pressure_level\n",
              "0           800              0.0  ...      0.002663               126.201\n",
              "1          1000              0.0  ...      0.002663               125.201\n",
              "2          1250              0.0  ...      0.002663               125.951\n",
              "3          1600              0.0  ...      0.002663               127.591\n",
              "4          2000              0.0  ...      0.002663               127.461\n",
              "\n",
              "[5 rows x 6 columns]"
            ]
          },
          "metadata": {
            "tags": []
          },
          "execution_count": 5
        }
      ]
    },
    {
      "cell_type": "code",
      "metadata": {
        "colab": {
          "base_uri": "https://localhost:8080/"
        },
        "id": "QxqcXIpxSIB_",
        "outputId": "b0f22fb5-40f6-41c4-bb26-26856032ff6b"
      },
      "source": [
        "train.shape"
      ],
      "execution_count": null,
      "outputs": [
        {
          "output_type": "execute_result",
          "data": {
            "text/plain": [
              "(1503, 6)"
            ]
          },
          "metadata": {
            "tags": []
          },
          "execution_count": 6
        }
      ]
    },
    {
      "cell_type": "code",
      "metadata": {
        "colab": {
          "base_uri": "https://localhost:8080/"
        },
        "id": "IionUT4wSTOH",
        "outputId": "a17abaf6-b7c5-46bb-987a-54a667a13201"
      },
      "source": [
        "#check for missing values\n",
        "nans=train.shape[0]-train.dropna().shape[0]\n",
        "print(\"No of missing values are \",nans)"
      ],
      "execution_count": null,
      "outputs": [
        {
          "output_type": "stream",
          "text": [
            "No of missing values are  0\n"
          ],
          "name": "stdout"
        }
      ]
    },
    {
      "cell_type": "code",
      "metadata": {
        "colab": {
          "base_uri": "https://localhost:8080/"
        },
        "id": "UjJoF2nwSjGx",
        "outputId": "eacefe90-21a7-4860-de28-0eb01b575e15"
      },
      "source": [
        "# No missing value. \n",
        "train.isnull().sum()"
      ],
      "execution_count": null,
      "outputs": [
        {
          "output_type": "execute_result",
          "data": {
            "text/plain": [
              "Frquency(Hz)            0\n",
              "Angle_of_Attack         0\n",
              "Chord_Length            0\n",
              "Free_stream_velocity    0\n",
              "Displacement            0\n",
              "Sound_pressure_level    0\n",
              "dtype: int64"
            ]
          },
          "metadata": {
            "tags": []
          },
          "execution_count": 8
        }
      ]
    },
    {
      "cell_type": "code",
      "metadata": {
        "colab": {
          "base_uri": "https://localhost:8080/",
          "height": 253
        },
        "id": "27vmGHV_Socx",
        "outputId": "3c4e88de-935c-40e3-8ea7-d58e003a9f6f"
      },
      "source": [
        "#check correlation matrix so as to avoid multicollinearity\n",
        "train.corr()\n",
        "#Angle_of_Attack and displacement sho 75% correlation. Usually >80% corr is considered high. \n",
        "#So, we can forego this combination and won't remove any variable.\n"
      ],
      "execution_count": null,
      "outputs": [
        {
          "output_type": "execute_result",
          "data": {
            "text/html": [
              "<div>\n",
              "<style scoped>\n",
              "    .dataframe tbody tr th:only-of-type {\n",
              "        vertical-align: middle;\n",
              "    }\n",
              "\n",
              "    .dataframe tbody tr th {\n",
              "        vertical-align: top;\n",
              "    }\n",
              "\n",
              "    .dataframe thead th {\n",
              "        text-align: right;\n",
              "    }\n",
              "</style>\n",
              "<table border=\"1\" class=\"dataframe\">\n",
              "  <thead>\n",
              "    <tr style=\"text-align: right;\">\n",
              "      <th></th>\n",
              "      <th>Frquency(Hz)</th>\n",
              "      <th>Angle_of_Attack</th>\n",
              "      <th>Chord_Length</th>\n",
              "      <th>Free_stream_velocity</th>\n",
              "      <th>Displacement</th>\n",
              "      <th>Sound_pressure_level</th>\n",
              "    </tr>\n",
              "  </thead>\n",
              "  <tbody>\n",
              "    <tr>\n",
              "      <th>Frquency(Hz)</th>\n",
              "      <td>1.000000</td>\n",
              "      <td>-0.272765</td>\n",
              "      <td>-0.003661</td>\n",
              "      <td>0.133664</td>\n",
              "      <td>-0.230107</td>\n",
              "      <td>-0.390711</td>\n",
              "    </tr>\n",
              "    <tr>\n",
              "      <th>Angle_of_Attack</th>\n",
              "      <td>-0.272765</td>\n",
              "      <td>1.000000</td>\n",
              "      <td>-0.504868</td>\n",
              "      <td>0.058760</td>\n",
              "      <td>0.753394</td>\n",
              "      <td>-0.156108</td>\n",
              "    </tr>\n",
              "    <tr>\n",
              "      <th>Chord_Length</th>\n",
              "      <td>-0.003661</td>\n",
              "      <td>-0.504868</td>\n",
              "      <td>1.000000</td>\n",
              "      <td>0.003787</td>\n",
              "      <td>-0.220842</td>\n",
              "      <td>-0.236162</td>\n",
              "    </tr>\n",
              "    <tr>\n",
              "      <th>Free_stream_velocity</th>\n",
              "      <td>0.133664</td>\n",
              "      <td>0.058760</td>\n",
              "      <td>0.003787</td>\n",
              "      <td>1.000000</td>\n",
              "      <td>-0.003974</td>\n",
              "      <td>0.125103</td>\n",
              "    </tr>\n",
              "    <tr>\n",
              "      <th>Displacement</th>\n",
              "      <td>-0.230107</td>\n",
              "      <td>0.753394</td>\n",
              "      <td>-0.220842</td>\n",
              "      <td>-0.003974</td>\n",
              "      <td>1.000000</td>\n",
              "      <td>-0.312670</td>\n",
              "    </tr>\n",
              "    <tr>\n",
              "      <th>Sound_pressure_level</th>\n",
              "      <td>-0.390711</td>\n",
              "      <td>-0.156108</td>\n",
              "      <td>-0.236162</td>\n",
              "      <td>0.125103</td>\n",
              "      <td>-0.312670</td>\n",
              "      <td>1.000000</td>\n",
              "    </tr>\n",
              "  </tbody>\n",
              "</table>\n",
              "</div>"
            ],
            "text/plain": [
              "                      Frquency(Hz)  ...  Sound_pressure_level\n",
              "Frquency(Hz)              1.000000  ...             -0.390711\n",
              "Angle_of_Attack          -0.272765  ...             -0.156108\n",
              "Chord_Length             -0.003661  ...             -0.236162\n",
              "Free_stream_velocity      0.133664  ...              0.125103\n",
              "Displacement             -0.230107  ...             -0.312670\n",
              "Sound_pressure_level     -0.390711  ...              1.000000\n",
              "\n",
              "[6 rows x 6 columns]"
            ]
          },
          "metadata": {
            "tags": []
          },
          "execution_count": 9
        }
      ]
    },
    {
      "cell_type": "code",
      "metadata": {
        "id": "ZHwrnPusT-qw"
      },
      "source": [
        "#train and test cases\n",
        "y = train['Sound_pressure_level']\n",
        "X = train.drop(['Sound_pressure_level'],axis=1)"
      ],
      "execution_count": null,
      "outputs": []
    },
    {
      "cell_type": "code",
      "metadata": {
        "colab": {
          "base_uri": "https://localhost:8080/"
        },
        "id": "6WAP56HD1m9c",
        "outputId": "6e18e89a-fe40-460a-d43e-3658188e61a5"
      },
      "source": [
        "#categorical variable search\n",
        "cat = X.select_dtypes(include=['O'])\n",
        "cat.apply(pd.Series.nunique,axis=0)"
      ],
      "execution_count": null,
      "outputs": [
        {
          "output_type": "execute_result",
          "data": {
            "text/plain": [
              "Series([], dtype: float64)"
            ]
          },
          "metadata": {
            "tags": []
          },
          "execution_count": 11
        }
      ]
    },
    {
      "cell_type": "code",
      "metadata": {
        "colab": {
          "base_uri": "https://localhost:8080/",
          "height": 202
        },
        "id": "lM8OJ_WV2ElZ",
        "outputId": "551fd582-4cdf-484c-cbfd-b2ebb8bf5960"
      },
      "source": [
        "#Since values of different features vary a lot, Normalize them \n",
        "mu = X.mean(axis=0)\n",
        "sigma = X.std(axis=0)\n",
        "X = (X - mu)/sigma\n",
        "X.head()"
      ],
      "execution_count": null,
      "outputs": [
        {
          "output_type": "execute_result",
          "data": {
            "text/html": [
              "<div>\n",
              "<style scoped>\n",
              "    .dataframe tbody tr th:only-of-type {\n",
              "        vertical-align: middle;\n",
              "    }\n",
              "\n",
              "    .dataframe tbody tr th {\n",
              "        vertical-align: top;\n",
              "    }\n",
              "\n",
              "    .dataframe thead th {\n",
              "        text-align: right;\n",
              "    }\n",
              "</style>\n",
              "<table border=\"1\" class=\"dataframe\">\n",
              "  <thead>\n",
              "    <tr style=\"text-align: right;\">\n",
              "      <th></th>\n",
              "      <th>Frquency(Hz)</th>\n",
              "      <th>Angle_of_Attack</th>\n",
              "      <th>Chord_Length</th>\n",
              "      <th>Free_stream_velocity</th>\n",
              "      <th>Displacement</th>\n",
              "    </tr>\n",
              "  </thead>\n",
              "  <tbody>\n",
              "    <tr>\n",
              "      <th>0</th>\n",
              "      <td>-0.661802</td>\n",
              "      <td>-1.146021</td>\n",
              "      <td>1.798701</td>\n",
              "      <td>1.312498</td>\n",
              "      <td>-0.64459</td>\n",
              "    </tr>\n",
              "    <tr>\n",
              "      <th>1</th>\n",
              "      <td>-0.598362</td>\n",
              "      <td>-1.146021</td>\n",
              "      <td>1.798701</td>\n",
              "      <td>1.312498</td>\n",
              "      <td>-0.64459</td>\n",
              "    </tr>\n",
              "    <tr>\n",
              "      <th>2</th>\n",
              "      <td>-0.519062</td>\n",
              "      <td>-1.146021</td>\n",
              "      <td>1.798701</td>\n",
              "      <td>1.312498</td>\n",
              "      <td>-0.64459</td>\n",
              "    </tr>\n",
              "    <tr>\n",
              "      <th>3</th>\n",
              "      <td>-0.408041</td>\n",
              "      <td>-1.146021</td>\n",
              "      <td>1.798701</td>\n",
              "      <td>1.312498</td>\n",
              "      <td>-0.64459</td>\n",
              "    </tr>\n",
              "    <tr>\n",
              "      <th>4</th>\n",
              "      <td>-0.281161</td>\n",
              "      <td>-1.146021</td>\n",
              "      <td>1.798701</td>\n",
              "      <td>1.312498</td>\n",
              "      <td>-0.64459</td>\n",
              "    </tr>\n",
              "  </tbody>\n",
              "</table>\n",
              "</div>"
            ],
            "text/plain": [
              "   Frquency(Hz)  Angle_of_Attack  ...  Free_stream_velocity  Displacement\n",
              "0     -0.661802        -1.146021  ...              1.312498      -0.64459\n",
              "1     -0.598362        -1.146021  ...              1.312498      -0.64459\n",
              "2     -0.519062        -1.146021  ...              1.312498      -0.64459\n",
              "3     -0.408041        -1.146021  ...              1.312498      -0.64459\n",
              "4     -0.281161        -1.146021  ...              1.312498      -0.64459\n",
              "\n",
              "[5 rows x 5 columns]"
            ]
          },
          "metadata": {
            "tags": []
          },
          "execution_count": 4
        }
      ]
    },
    {
      "cell_type": "markdown",
      "metadata": {
        "id": "v7Q1zewSCzzC"
      },
      "source": [
        "Convert dataframe to numpy array. Need numpy to perform calculations, pandas to import the data set in csv format. \n"
      ]
    },
    {
      "cell_type": "code",
      "metadata": {
        "colab": {
          "base_uri": "https://localhost:8080/"
        },
        "id": "doda_fH3CsOO",
        "outputId": "ab64f33e-1708-49aa-cc26-0d4178f4793f"
      },
      "source": [
        "#Convert dataframe to numpy array. \n",
        "X_arr = X.to_numpy()\n",
        "y_arr = y.to_numpy()\n",
        "\n",
        "m = y_arr.size\n",
        "print(X)"
      ],
      "execution_count": null,
      "outputs": [
        {
          "output_type": "stream",
          "text": [
            "      Frquency(Hz)  Angle_of_Attack  ...  Free_stream_velocity  Displacement\n",
            "0        -0.661802        -1.146021  ...              1.312498     -0.644590\n",
            "1        -0.598362        -1.146021  ...              1.312498     -0.644590\n",
            "2        -0.519062        -1.146021  ...              1.312498     -0.644590\n",
            "3        -0.408041        -1.146021  ...              1.312498     -0.644590\n",
            "4        -0.281161        -1.146021  ...              1.312498     -0.644590\n",
            "...            ...              ...  ...                   ...           ...\n",
            "1498     -0.122560         1.489947  ...             -0.723104      3.171717\n",
            "1499      0.083620         1.489947  ...             -0.723104      3.171717\n",
            "1500      0.353241         1.489947  ...             -0.723104      3.171717\n",
            "1501      0.670443         1.489947  ...             -0.723104      3.171717\n",
            "1502      1.082804         1.489947  ...             -0.723104      3.171717\n",
            "\n",
            "[1503 rows x 5 columns]\n"
          ],
          "name": "stdout"
        }
      ]
    },
    {
      "cell_type": "code",
      "metadata": {
        "id": "6nMPaYkm0OXn"
      },
      "source": [
        "X_arr = np.concatenate([np.ones((m,1)),X_arr],axis=1)"
      ],
      "execution_count": null,
      "outputs": []
    },
    {
      "cell_type": "code",
      "metadata": {
        "colab": {
          "base_uri": "https://localhost:8080/"
        },
        "id": "ETUSMt7nDp_H",
        "outputId": "e7f73f4e-8ff9-42d0-c79d-493e50546a59"
      },
      "source": [
        "########### Another way to concatenate()\n",
        "#one = np.ones(m)\n",
        "#X_arr = np.stack([one.reshape(m,-1),X_arr],axis=1)\n",
        "#X_arr = np.hstack([a.reshape(m,-1) for a in [one, X_arr]])\n",
        "print(X_arr.shape)"
      ],
      "execution_count": null,
      "outputs": [
        {
          "output_type": "stream",
          "text": [
            "(1503, 6)\n"
          ],
          "name": "stdout"
        }
      ]
    },
    {
      "cell_type": "code",
      "metadata": {
        "id": "5HLQ5jcQOuIj"
      },
      "source": [
        "def computeCost(X, y, theta):\n",
        "  m = y.size  # number of training examples\n",
        "  J = (1/(2*m))*np.sum((np.dot(X,theta)-y)**2)\n",
        "  return J"
      ],
      "execution_count": null,
      "outputs": []
    },
    {
      "cell_type": "code",
      "metadata": {
        "colab": {
          "base_uri": "https://localhost:8080/"
        },
        "id": "S6m5-pPsPA72",
        "outputId": "20c8d26d-8dcc-4802-adef-fbe993cec176"
      },
      "source": [
        "#checking J\n",
        "J = computeCost(X_arr, y_arr, theta=np.array([0.0, 0.0, 0.0, 0.0, 0.0, 0.0]))\n",
        "print(J)"
      ],
      "execution_count": null,
      "outputs": [
        {
          "output_type": "stream",
          "text": [
            "7815.786204458416\n"
          ],
          "name": "stdout"
        }
      ]
    },
    {
      "cell_type": "code",
      "metadata": {
        "id": "zJ08fxm6Pza5"
      },
      "source": [
        "def gradientDescent(X, y, theta, alpha, num_iters):\n",
        "  m = y.shape[0]  # number of training examples\n",
        "  theta = theta.copy()\n",
        "  temp = theta.copy()\n",
        "  J_history = [] # Use a python list to save cost in every iteration\n",
        "  for i in range(num_iters):\n",
        "    temp = temp - alpha*(1/m)*np.dot(np.transpose(X),(np.dot(X,theta)-y))\n",
        "    theta = temp.copy()\n",
        "    J_history.append(computeCost(X, y, theta))\n",
        "  \n",
        "  return theta, J_history"
      ],
      "execution_count": null,
      "outputs": []
    },
    {
      "cell_type": "code",
      "metadata": {
        "id": "WW6P0fOGQJkp"
      },
      "source": [
        "#Method 1: Without Validation data\n",
        "\n",
        "theta=np.array([0.0, 0.0, 0.0, 0.0, 0.0, 0.0])\n",
        "# some gradient descent settings\n",
        "iterations = 1500\n",
        "alpha = 0.01\n",
        "\n",
        "theta, J_history = gradientDescent(X_arr ,y_arr, theta, alpha, iterations)\n",
        "theta;\n",
        "J_history;\n"
      ],
      "execution_count": null,
      "outputs": []
    },
    {
      "cell_type": "code",
      "metadata": {
        "colab": {
          "base_uri": "https://localhost:8080/",
          "height": 299
        },
        "id": "chYmHq3UQr1e",
        "outputId": "caca5d8e-a085-4570-b533-cd142e54849a"
      },
      "source": [
        "#check if gradient descent working properly \n",
        "from matplotlib import pyplot\n",
        "\n",
        "pyplot.plot(J_history,'-')\n",
        "pyplot.xlabel('No of iterations')\n",
        "pyplot.ylabel('J(theta)')"
      ],
      "execution_count": null,
      "outputs": [
        {
          "output_type": "execute_result",
          "data": {
            "text/plain": [
              "Text(0, 0.5, 'J(theta)')"
            ]
          },
          "metadata": {
            "tags": []
          },
          "execution_count": 11
        },
        {
          "output_type": "display_data",
          "data": {
            "image/png": "[encoded data removed]",
            "text/plain": [
              "<Figure size 432x288 with 1 Axes>"
            ]
          },
          "metadata": {
            "tags": [],
            "needs_background": "light"
          }
        }
      ]
    },
    {
      "cell_type": "code",
      "metadata": {
        "colab": {
          "base_uri": "https://localhost:8080/"
        },
        "id": "9fjvjcx1wwPY",
        "outputId": "b53a2790-264d-4107-98c2-a39af338c259"
      },
      "source": [
        "#predictions using training data\n",
        "predict = np.dot(X_arr,theta)\n"
      ],
      "execution_count": null,
      "outputs": [
        {
          "output_type": "stream",
          "text": [
            "(1503,)\n"
          ],
          "name": "stdout"
        }
      ]
    },
    {
      "cell_type": "code",
      "metadata": {
        "colab": {
          "base_uri": "https://localhost:8080/"
        },
        "id": "WJtwH7IYzFtW",
        "outputId": "17303c21-e806-4d96-9d7f-b9853e7845b3"
      },
      "source": [
        "from sklearn.metrics import mean_absolute_error\n",
        "\n",
        "MAE = mean_absolute_error(y, predict)\n",
        "print('Mean Absolute Error on Training Data (Before Splitting):  ',MAE)\n",
        "\n",
        "rmse = mean_squared_error(y, predict, squared=False)\n",
        "print('Root Mean Square Error: ',rmse)"
      ],
      "execution_count": null,
      "outputs": [
        {
          "output_type": "stream",
          "text": [
            "Mean Absolute Error on Training Data (Before Splitting):   3.727818972399576\n",
            "Root Mean Square Error:  4.79975776801842\n"
          ],
          "name": "stdout"
        }
      ]
    },
    {
      "cell_type": "code",
      "metadata": {
        "id": "W9E_9b5M7Ux1"
      },
      "source": [
        "#Method 2: With Validation data \n",
        "#Splitting train and test data for validation \n",
        "from sklearn.model_selection import train_test_split\n",
        "\n",
        "Train_X, val_X, Train_y, val_y = train_test_split(X_arr,y_arr,test_size=0.3,train_size=0.7,random_state=1)\n"
      ],
      "execution_count": null,
      "outputs": []
    },
    {
      "cell_type": "code",
      "metadata": {
        "colab": {
          "base_uri": "https://localhost:8080/",
          "height": 320
        },
        "id": "P9ozvPZi1OOV",
        "outputId": "ef596dd8-766d-44ea-b328-3030d302eb18"
      },
      "source": [
        "#performing gradient descent for finding min theta\n",
        "theta=np.array([0.0, 0.0, 0.0, 0.0, 0.0, 0.0])\n",
        "# gradient descent settings\n",
        "iterations = 1500\n",
        "alpha = 0.01\n",
        "\n",
        "theta, J_history = gradientDescent(Train_X ,Train_y, theta, alpha, iterations)\n",
        "print(theta)\n",
        "pyplot.plot(J_history)\n"
      ],
      "execution_count": null,
      "outputs": [
        {
          "output_type": "stream",
          "text": [
            "[124.95428414  -4.05019366  -2.39929901  -3.37562356   1.47678058\n",
            "  -2.06616398]\n"
          ],
          "name": "stdout"
        },
        {
          "output_type": "execute_result",
          "data": {
            "text/plain": [
              "[<matplotlib.lines.Line2D at 0x7f1f387cc7d0>]"
            ]
          },
          "metadata": {
            "tags": []
          },
          "execution_count": 79
        },
        {
          "output_type": "display_data",
          "data": {
            "image/png": "[encoded data removed]",
            "text/plain": [
              "<Figure size 432x288 with 1 Axes>"
            ]
          },
          "metadata": {
            "tags": [],
            "needs_background": "light"
          }
        }
      ]
    },
    {
      "cell_type": "code",
      "metadata": {
        "id": "ZwjgTK1g1sEF"
      },
      "source": [
        "predictions = np.dot(val_X,theta)"
      ],
      "execution_count": null,
      "outputs": []
    },
    {
      "cell_type": "code",
      "metadata": {
        "colab": {
          "base_uri": "https://localhost:8080/"
        },
        "id": "-82RKFq22B_q",
        "outputId": "ff105452-deac-4985-ce6a-74b6100c9eb8"
      },
      "source": [
        "MAE = mean_absolute_error(val_y,predictions)\n",
        "print('Mean Absolute Error (after splitting):  ',MAE)\n",
        "\n",
        "from sklearn.metrics import mean_squared_error\n",
        "rmse = mean_squared_error(val_y, predictions, squared=False)\n",
        "print('Root Mean Square Error: ',rmse)"
      ],
      "execution_count": null,
      "outputs": [
        {
          "output_type": "stream",
          "text": [
            "Mean Absolute Error (after splitting):   3.8819449123793808\n",
            "Root Mean Square Error:  4.976813357058133\n"
          ],
          "name": "stdout"
        }
      ]
    },
    {
      "cell_type": "code",
      "metadata": {
        "id": "CjtpTUv12zuN"
      },
      "source": [
        "#Method 3: using Linear Regression Class\n",
        "from sklearn.linear_model import LinearRegression\n",
        "\n",
        "linear_regressor = LinearRegression()\n",
        "linear_regressor.fit(Train_X,Train_y)\n",
        "Y_Pred = linear_regressor.predict(val_X)"
      ],
      "execution_count": null,
      "outputs": []
    },
    {
      "cell_type": "code",
      "metadata": {
        "colab": {
          "base_uri": "https://localhost:8080/"
        },
        "id": "s6TkLj5I3iEK",
        "outputId": "956c6969-cabf-43cf-dbc2-485e8ca0fba2"
      },
      "source": [
        "MAE = mean_absolute_error(val_y,Y_Pred)\n",
        "print('Mean Absolute Error: ',MAE)"
      ],
      "execution_count": null,
      "outputs": [
        {
          "output_type": "stream",
          "text": [
            "Mean Absolute Error:  3.882016812069881\n"
          ],
          "name": "stdout"
        }
      ]
    },
    {
      "cell_type": "code",
      "metadata": {
        "colab": {
          "base_uri": "https://localhost:8080/"
        },
        "id": "XSiuEkHH5z1u",
        "outputId": "e60c7d1b-1711-44ff-94b7-bc3a5688158e"
      },
      "source": [
        "from sklearn.metrics import mean_squared_error\n",
        "\n",
        "rmse = mean_squared_error(val_y, Y_Pred, squared=False)\n",
        "print('Root Mean Square Error: ',rmse)"
      ],
      "execution_count": null,
      "outputs": [
        {
          "output_type": "stream",
          "text": [
            "Root Mean Square Error:  4.97823738797826\n"
          ],
          "name": "stdout"
        }
      ]
    }
  ]
}